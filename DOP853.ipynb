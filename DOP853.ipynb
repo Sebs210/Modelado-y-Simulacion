{
  "nbformat": 4,
  "nbformat_minor": 0,
  "metadata": {
    "colab": {
      "name": "DOP853",
      "provenance": [],
      "collapsed_sections": [],
      "toc_visible": true,
      "include_colab_link": true
    },
    "kernelspec": {
      "name": "python3",
      "display_name": "Python 3"
    }
  },
  "cells": [
    {
      "cell_type": "markdown",
      "metadata": {
        "id": "view-in-github",
        "colab_type": "text"
      },
      "source": [
        "<a href=\"https://colab.research.google.com/github/jfestradan/Modelado-y-simulacion/blob/master/DOP853.ipynb\" target=\"_parent\"><img src=\"https://colab.research.google.com/assets/colab-badge.svg\" alt=\"Open In Colab\"/></a>"
      ]
    },
    {
      "cell_type": "markdown",
      "metadata": {
        "id": "Mwfmqaved-4m",
        "colab_type": "text"
      },
      "source": [
        "# Método explícito de Runge-Kutta de orden 8 (5,3)"
      ]
    },
    {
      "cell_type": "markdown",
      "metadata": {
        "id": "4iW4ZvKeecti",
        "colab_type": "text"
      },
      "source": [
        "Resuelve el problema del valor inicial para sistemas de ecuaciones diferenciales ordinarias (ODE) en la forma:\n",
        "\n",
        "\n",
        "$$\n",
        "\\frac{\\text{d}y}{\\text{d}t}= f(y, t).\n",
        "$$\n",
        "Donde t se considera el parametro de tiempo y y la posición en el tiempo t.\n",
        "\n",
        "\n",
        "Los métodos de estimación de errores de Runge-Kutta a menudo se escriben como \"RK M (N)\", donde típicamente M especifica el orden del método utilizado para obtener la solución, y N especifica el orden del método utilizado para obtener El error estimado.\n",
        "\n",
        "El propósito de usar el control de errores es aumentar la precisión de un método. Dado que ya estamos evaluando la función f(t,x) al menos M veces (y generalmente más, depende de la etapa del método), la idea es que tal vez podamos controlar el error arrojando un llamada de función adicional y obtener un aumento en la precisión.\n",
        "\n",
        "\n",
        "En esencia, DOP es un método de octavo orden de Dormand & Prince que utiliza un estimador de error de quinto orden y un estimador de tercer orden para obtener una salida densa de orden 7. Por lo tanto, DOP853 podría considerarse en última instancia como un método de séptimo orden. \n",
        "\n",
        "\n",
        "Esencialmente, la salida densa de un método proporciona una solución que puede usarse como un buen interpolante lineal para la solución en cualquier lugar entre los puntos de salida.\n",
        "\n",
        "\n",
        "# Salida densa \n",
        "\n",
        "El uso de estimaciones de error para controlar el tamaño de pasos tiene una desventaja aparente; los puntos de solución resultantes no pueden predecirse o especificarse al comienzo de un cálculo. Suponiendo que tengo una ecuacion diferencial donde el error me dio muy pequeño, Una forma obvia de lograr esto sería elegir un tamaño de paso más pequeño  en lugar del valor predicho de la fórmula de tamaño de paso. Desde el punto de vista de la tolerancia al error, esto sería casi ciertamente aceptable, pero habría un pérdida de eficiencia debido a los pasos adicionales que son necesarios.\n",
        "se implica una gran cantidad de puntos intermedios en el intervalo de la ecuacion diferencial.\n",
        "El costo computacional adicional podría ser considerable. Afortunadamente, esta perspectiva desagradable puede evitarse formando una fórmula de salida interpolante o densa que a veces se denomina extensión continua a la fórmula RK. Por supuesto, un interpolante convencional basado en los valores de dos o se podrían construir más puntos de paso, pero es posible y también preferible, evitar este enfoque de varios pasos derivando directamente una solución Rungekutta continua.\n"
      ]
    },
    {
      "cell_type": "code",
      "metadata": {
        "id": "UnSo_9mrJO8R",
        "colab_type": "code",
        "outputId": "45f75ce2-fb04-487a-97b2-7d6390d36687",
        "colab": {
          "base_uri": "https://localhost:8080/",
          "height": 273
        }
      },
      "source": [
        "import numpy as np\n",
        "import matplotlib.style\n",
        "matplotlib.style.use('classic')\n",
        "from scipy.integrate import ode\n",
        "from matplotlib import pyplot as plt\n",
        "import warnings\n",
        "%matplotlib inline\n",
        "\n",
        "\n",
        "\n",
        "def logistic(t, y, r):\n",
        "       return r * y * (1.0 - y)\n",
        "\n",
        "r = .01\n",
        "t0 = 0\n",
        "y0 = 1e-5\n",
        "t1 = 5000.0\n",
        "\n",
        "\n",
        "backend = 'dop853'\n",
        "\n",
        "solver = ode(logistic).set_integrator(backend, nsteps=1)\n",
        "solver.set_initial_value(y0, t0).set_f_params(r)\n",
        "# suppress Fortran-printed warning\n",
        "solver._integrator.iwork[2] = -1\n",
        "sol = []\n",
        "warnings.filterwarnings(\"ignore\", category=UserWarning)\n",
        "while solver.t < t1:\n",
        "       solver.integrate(t1, step=True)\n",
        "       sol.append([solver.t, solver.y])\n",
        "warnings.resetwarnings()\n",
        "sol = np.array(sol)\n",
        "\n",
        "plt.plot(sol[:,0], sol[:,1], 'b.-')\n",
        "plt.grid()\n",
        "plt.show()\n"
      ],
      "execution_count": 0,
      "outputs": [
        {
          "output_type": "display_data",
          "data": {
            "image/png": "[encoded data removed]",
            "text/plain": [
              "<Figure size 432x288 with 1 Axes>"
            ]
          },
          "metadata": {
            "tags": [],
            "needs_background": "light"
          }
        }
      ]
    },
    {
      "cell_type": "code",
      "metadata": {
        "id": "4oEBnrJtKr5H",
        "colab_type": "code",
        "outputId": "97d51104-6682-42d6-e19a-16f6966282a8",
        "colab": {
          "base_uri": "https://localhost:8080/",
          "height": 289
        }
      },
      "source": [
        "def euler( func, h, tini, tfin, x0, params ):\n",
        "    ti = tini  \n",
        "    xi = x0\n",
        "  \n",
        "    x = list()\n",
        "    t = list()\n",
        "  \n",
        "    while ( ti < tfin ):\n",
        "    \n",
        "      x.append (xi)\n",
        "      t.append (ti)\n",
        "  \n",
        "      xi = xi + h*func(ti,xi,params)\n",
        "      ti = ti + h\n",
        "    return t, x    \n",
        "    \n",
        "def Ecuacion_log(t, p, a):\n",
        "    p_dot = 0.01*p*(1-p)\n",
        "    return p_dot\n",
        "a=1\n",
        "h = 20\n",
        "tini = 0\n",
        "tfin = 5000\n",
        "x0 = 1e-5\n",
        "\n",
        "\n",
        "t1,x1 = euler( Ecuacion_log, h, tini, tfin, x0, a )\n",
        "\n",
        "plt.figure()\n",
        "\n",
        "# gráfica de euler:\n",
        "plt.scatter( t1, x1, c = 'crimson', label = 'Euler', s = 100)\n",
        "plt.xlim([0, tfin])\n",
        "#plt.ylim([-3.14, 6.28])\n",
        "plt.xlabel(r'$t$')\n",
        "plt.grid()\n",
        "plt.show()"
      ],
      "execution_count": 0,
      "outputs": [
        {
          "output_type": "display_data",
          "data": {
            "image/png": "[encoded data removed]",
            "text/plain": [
              "<Figure size 432x288 with 1 Axes>"
            ]
          },
          "metadata": {
            "tags": [],
            "needs_background": "light"
          }
        }
      ]
    },
    {
      "cell_type": "code",
      "metadata": {
        "colab_type": "code",
        "id": "-9xCCPwyZ3lQ",
        "outputId": "69a4542b-26e5-43d4-b7f7-4380799cc8d9",
        "colab": {
          "base_uri": "https://localhost:8080/",
          "height": 289
        }
      },
      "source": [
        "\n",
        "def rk4( func, h, tini, tfin, x0, params ):\n",
        "    ti = tini  \n",
        "    xi = x0\n",
        "  \n",
        "    x = list()\n",
        "    t = list()\n",
        "  \n",
        "    while ( ti < tfin ):\n",
        "\n",
        "      x.append (xi)\n",
        "      t.append (ti)\n",
        "      k1 = func( ti,xi,params)\n",
        "      k2 = func( ti + 0.5*h,xi + 0.5*k1*h,params )\n",
        "      k3 = func( ti + 0.5*h,xi + 0.5*k2*h,params)\n",
        "      k4 = func( ti + h,xi + k3*h,params) \n",
        "\n",
        "      xi = xi + h*(k1 + 2*k2 + 2*k3 + k4)/6\n",
        "      ti = ti + h\n",
        "    return t, x\n",
        "\n",
        "t1,x1 = rk4( Ecuacion_log, h, tini, tfin, x0, a )\n",
        "\n",
        "plt.figure()\n",
        "\n",
        "# gráfica de euler:\n",
        "plt.scatter( t1, x1, c = 'crimson', label = 'rk4', s = 100)\n",
        "plt.xlim([0, tfin])\n",
        "#plt.ylim([-3.14, 6.28])\n",
        "plt.xlabel(r'$t$')\n",
        "plt.grid()\n",
        "plt.show()"
      ],
      "execution_count": 0,
      "outputs": [
        {
          "output_type": "display_data",
          "data": {
            "image/png": "[encoded data removed]",
            "text/plain": [
              "<Figure size 432x288 with 1 Axes>"
            ]
          },
          "metadata": {
            "tags": [],
            "needs_background": "light"
          }
        }
      ]
    }
  ]
}